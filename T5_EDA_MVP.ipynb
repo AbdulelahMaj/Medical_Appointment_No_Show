{
 "cells": [
  {
   "cell_type": "markdown",
   "id": "3fd841bb",
   "metadata": {},
   "source": [
    "# EDA Project: Medical Appointment No-Show\n",
    "\n",
    "## Table of Contents\n",
    "<ul>\n",
    "<li><a href=\"#intro\">Introduction</a></li>\n",
    "<li><a href=\"#wrangling\">Data Wrangling</a></li>\n",
    "<li><a href=\"#eda\">Exploratory Data Analysis</a></li>\n",
    "<li><a href=\"#conclusions\">Conclusions</a></li>\n",
    "</ul>"
   ]
  },
  {
   "cell_type": "markdown",
   "id": "9cfbcbc3",
   "metadata": {},
   "source": [
    "<a id='intro'></a>\n",
    "## Introduction\n",
    "\n",
    "### Dataset Description \n",
    "\n",
    "> This dataset collects information from 100k medical appointments in Brazil and is focused on the question of whether or not patients show up for their appointment. A number of characteristics about the patient are included in each row.\n",
    "Features are:\n",
    ">> <b>PatientId</b>: the ID of the patient, mostly I will delete this column because we do not need it.\n",
    ">> <br><b>AppointmentId</b>: the ID of the appointment, mostly I will delete this column because we do not need it.\n",
    ">><br><b>Gender</b>: Male or Female.\n",
    ">><br><b>ScheduledDay</b>: on what day the patient set up their appointment.\n",
    ">><br><b>AppointmentDay</b>: it is the appointment day\n",
    ">><br><b>Age</b>: How old is the patient.\n",
    ">><br><b>Neighborhood</b>: Where the appointment takes place (because it is in Brazil, I don't think we can know the difference between each neighbour, so I might delete this column)\n",
    ">><br><b>Scholarship</b>: True of false. This is a broad topic, you can read this article --> [Link](https://en.wikipedia.org/wiki/Bolsa_Fam%C3%ADlia)\n",
    ">><br><b>Hypertension</b>: True or False.\n",
    ">><br><b>Diabetes</b>: True or false.\n",
    ">><br><b>Alcoholism</b>: True or False.\n",
    ">><br><b>Handicap</b>: True or False.\n",
    ">><br><b>SMS_received</b>: 1 or more messages sent to the patient.\n",
    ">><br><b>No-Show</b>: 1, who’s didn’t show. 0, who did show in his appointment.\n",
    "\n",
    "\n",
    "\n",
    "\n",
    "### Question(s) for Analysis\n",
    ">\n",
    "\n"
   ]
  },
  {
   "cell_type": "code",
   "execution_count": null,
   "id": "cf9c1124",
   "metadata": {},
   "outputs": [],
   "source": [
    "import sqlite3\n",
    "import pandas as pd\n",
    "import numpy as np\n",
    "import matplotlib.pyplot as plt\n",
    "import seaborn as sns\n",
    "from datetime import datetime\n",
    "from dateutil import parser\n",
    "%matplotlib inline"
   ]
  },
  {
   "cell_type": "markdown",
   "id": "6b10503a",
   "metadata": {},
   "source": [
    "<a id='wrangling'></a>\n",
    "## Data Wrangling\n",
    "\n",
    "\n",
    "### General Properties"
   ]
  },
  {
   "cell_type": "code",
   "execution_count": null,
   "id": "582ad176",
   "metadata": {},
   "outputs": [],
   "source": [
    "# Load your data and print out a few lines. Perform operations to inspect data\n",
    "#   types and look for instances of missing or possibly errant data.\n",
    "database = \"EDA_pro.db\"\n",
    "\n",
    "conn = sqlite3.connect(database)\n",
    "\n",
    "df = pd.read_sql_query(\"select * from noshowappointments\", con=conn)\n",
    "\n",
    "conn.close()"
   ]
  },
  {
   "cell_type": "code",
   "execution_count": null,
   "id": "7b656a93",
   "metadata": {},
   "outputs": [],
   "source": [
    "df.head(1)"
   ]
  },
  {
   "cell_type": "code",
   "execution_count": null,
   "id": "5d75bf1b",
   "metadata": {},
   "outputs": [],
   "source": [
    "df.info()"
   ]
  },
  {
   "cell_type": "markdown",
   "id": "54060734",
   "metadata": {},
   "source": [
    "### Data Cleaning\n",
    ">first things first: I will remove some columns that we do not need them in my EDA.\n",
    "><br>such as: <b>patient_id, appointment_id</b>\n",
    "><br>I will remove <b>neighbourhood</b> because I do not know the difference between eatch neighbourhood.\n",
    " "
   ]
  },
  {
   "cell_type": "code",
   "execution_count": null,
   "id": "20d58efa",
   "metadata": {},
   "outputs": [],
   "source": [
    "df.drop(['patient_id', 'appointment_id', 'neighbourhood'], axis=1, inplace=True)"
   ]
  },
  {
   "cell_type": "code",
   "execution_count": null,
   "id": "9a064f62",
   "metadata": {},
   "outputs": [],
   "source": [
    "df.head(1)"
   ]
  },
  {
   "cell_type": "code",
   "execution_count": null,
   "id": "e57da863",
   "metadata": {},
   "outputs": [],
   "source": [
    "df.describe()"
   ]
  },
  {
   "cell_type": "markdown",
   "id": "71b10ed7",
   "metadata": {},
   "source": [
    "#### minimum age is -1 which is not Realistic, so we should handle it"
   ]
  },
  {
   "cell_type": "code",
   "execution_count": null,
   "id": "927d3b43",
   "metadata": {},
   "outputs": [],
   "source": [
    "df = df[df['age']>=0]"
   ]
  },
  {
   "cell_type": "code",
   "execution_count": null,
   "id": "22cab8df",
   "metadata": {},
   "outputs": [],
   "source": [
    "df.describe()"
   ]
  },
  {
   "cell_type": "code",
   "execution_count": null,
   "id": "3b8be2d6",
   "metadata": {},
   "outputs": [],
   "source": [
    "df.isna().sum()"
   ]
  },
  {
   "cell_type": "markdown",
   "id": "a6d994b5",
   "metadata": {},
   "source": [
    "#### Now, we should comnvert types of columns (scheduled_day, appointment_day) from a string to datatime type to perform some analysis on it."
   ]
  },
  {
   "cell_type": "code",
   "execution_count": null,
   "id": "4be99bff",
   "metadata": {},
   "outputs": [],
   "source": [
    "df['scheduled_day']"
   ]
  },
  {
   "cell_type": "code",
   "execution_count": null,
   "id": "4f682957",
   "metadata": {},
   "outputs": [],
   "source": [
    "df['scheduled_day'] = df['scheduled_day'].apply(lambda x: parser.parse(x))"
   ]
  },
  {
   "cell_type": "code",
   "execution_count": null,
   "id": "c3a80890",
   "metadata": {},
   "outputs": [],
   "source": [
    "df['scheduled_day']"
   ]
  },
  {
   "cell_type": "code",
   "execution_count": null,
   "id": "82bb529d",
   "metadata": {},
   "outputs": [],
   "source": [
    "df['appointment_day'] = df['appointment_day'].apply(lambda x: parser.parse(x))"
   ]
  },
  {
   "cell_type": "code",
   "execution_count": null,
   "id": "293cb85a",
   "metadata": {},
   "outputs": [],
   "source": [
    "df['appointment_day']"
   ]
  },
  {
   "cell_type": "code",
   "execution_count": null,
   "id": "dd4803f8",
   "metadata": {},
   "outputs": [],
   "source": [
    "df.head(300)"
   ]
  },
  {
   "cell_type": "code",
   "execution_count": null,
   "id": "03b544d6",
   "metadata": {},
   "outputs": [],
   "source": [
    "df['scheduled_day'] = pd.to_datetime(df.scheduled_day).dt.tz_localize(None)\n",
    "df['appointment_day'] = pd.to_datetime(df.appointment_day).dt.tz_localize(None)"
   ]
  },
  {
   "cell_type": "code",
   "execution_count": null,
   "id": "42162101",
   "metadata": {},
   "outputs": [],
   "source": [
    "df.dtypes"
   ]
  },
  {
   "cell_type": "code",
   "execution_count": null,
   "id": "0a259024",
   "metadata": {},
   "outputs": [],
   "source": [
    "df['scheduled_day']"
   ]
  },
  {
   "cell_type": "code",
   "execution_count": null,
   "id": "a0f1d1e7",
   "metadata": {},
   "outputs": [],
   "source": [
    "#here we see that in appointment_day column we dont have time, so we should deal with scheduled_day also\n",
    "df['appointment_day']"
   ]
  },
  {
   "cell_type": "code",
   "execution_count": null,
   "id": "2679465e",
   "metadata": {},
   "outputs": [],
   "source": [
    "# since we dont have a time in appointment_day values, we will remove time from the values in scheduled day column\n",
    "df['scheduled_day'] = pd.to_datetime(df['scheduled_day']).dt.date\n",
    "df"
   ]
  },
  {
   "cell_type": "code",
   "execution_count": null,
   "id": "72073e54",
   "metadata": {},
   "outputs": [],
   "source": [
    "df.info()"
   ]
  },
  {
   "cell_type": "code",
   "execution_count": null,
   "id": "f5226093",
   "metadata": {},
   "outputs": [],
   "source": [
    "df.scheduled_day = pd.to_datetime(df.scheduled_day)"
   ]
  },
  {
   "cell_type": "code",
   "execution_count": null,
   "id": "b908a664",
   "metadata": {},
   "outputs": [],
   "source": [
    "df.head(5)"
   ]
  },
  {
   "cell_type": "code",
   "execution_count": null,
   "id": "25a9deb9",
   "metadata": {},
   "outputs": [],
   "source": [
    "df['diff_between_dates'] = df['appointment_day'] - df['scheduled_day'] "
   ]
  },
  {
   "cell_type": "code",
   "execution_count": null,
   "id": "d600e434",
   "metadata": {},
   "outputs": [],
   "source": [
    "df.head()"
   ]
  },
  {
   "cell_type": "code",
   "execution_count": null,
   "id": "e9d3566f",
   "metadata": {},
   "outputs": [],
   "source": [
    "df['diff_between_dates'].astype(str)"
   ]
  },
  {
   "cell_type": "code",
   "execution_count": null,
   "id": "afc98133",
   "metadata": {},
   "outputs": [],
   "source": [
    "#df['diff_between_dates']."
   ]
  },
  {
   "cell_type": "markdown",
   "id": "9d39589a",
   "metadata": {},
   "source": [
    "## Exploratory Data Analysis\n"
   ]
  },
  {
   "cell_type": "markdown",
   "id": "856157df",
   "metadata": {},
   "source": [
    "### From our data, what is the average of patient (show up, didn't show up)"
   ]
  },
  {
   "cell_type": "code",
   "execution_count": null,
   "id": "1aff610b",
   "metadata": {},
   "outputs": [],
   "source": [
    "df1 = df['no_show'].value_counts()"
   ]
  },
  {
   "cell_type": "code",
   "execution_count": null,
   "id": "d9b83fdc",
   "metadata": {},
   "outputs": [],
   "source": [
    "df1"
   ]
  },
  {
   "cell_type": "code",
   "execution_count": null,
   "id": "52a156cc",
   "metadata": {},
   "outputs": [],
   "source": [
    "df1 = df1.to_frame()"
   ]
  },
  {
   "cell_type": "code",
   "execution_count": null,
   "id": "6a9af558",
   "metadata": {},
   "outputs": [],
   "source": [
    "all_p = df['no_show'].count()"
   ]
  },
  {
   "cell_type": "code",
   "execution_count": null,
   "id": "4d014daa",
   "metadata": {},
   "outputs": [],
   "source": [
    "df1"
   ]
  },
  {
   "cell_type": "code",
   "execution_count": null,
   "id": "06339a10",
   "metadata": {},
   "outputs": [],
   "source": [
    "df1['mean']=df1['no_show']/all_p"
   ]
  },
  {
   "cell_type": "code",
   "execution_count": null,
   "id": "ae400e34",
   "metadata": {},
   "outputs": [],
   "source": [
    "df1"
   ]
  },
  {
   "cell_type": "code",
   "execution_count": null,
   "id": "ee80c9e6",
   "metadata": {},
   "outputs": [],
   "source": [
    "ax = df1['mean'].plot(kind='bar', figsize=(10,6), color=['lightseagreen', 'cadetblue'], fontsize=13);\n",
    "ax.set_alpha(0.8)\n",
    "ax.set_title(\"Average of patients (show up,  Didn’t show up)\", fontsize=22)\n",
    "ax.set_ylabel(\"Number\", fontsize=15);\n",
    "ax.set_xlabel(\"show up\", fontsize=15);\n",
    "plt.show()"
   ]
  },
  {
   "cell_type": "markdown",
   "id": "316266ca",
   "metadata": {},
   "source": [
    "#### As we see, most of the patient show uo and there are 20% of patients didn’t show up in their appointment, now let’s dig more about them."
   ]
  },
  {
   "cell_type": "markdown",
   "id": "9711b2b4",
   "metadata": {},
   "source": [
    "### Is there any connection between age and not shot up?"
   ]
  },
  {
   "cell_type": "code",
   "execution_count": null,
   "id": "808b7fb3",
   "metadata": {},
   "outputs": [],
   "source": [
    "df2 = df.groupby('no_show')['age'].mean()"
   ]
  },
  {
   "cell_type": "code",
   "execution_count": null,
   "id": "06ecc7a5",
   "metadata": {},
   "outputs": [],
   "source": [
    "df2"
   ]
  },
  {
   "cell_type": "code",
   "execution_count": null,
   "id": "bee0dcf7",
   "metadata": {},
   "outputs": [],
   "source": [
    "ax = df2.plot(kind='bar', figsize=(10,6), color=['teal', 'salmon'], fontsize=13);\n",
    "ax.set_alpha(0.8)\n",
    "ax.set_title(\"Average of patients (show up,  Didn’t show up)\", fontsize=22)\n",
    "ax.set_ylabel(\"Number\", fontsize=15);\n",
    "ax.set_xlabel(\"show up\", fontsize=15);\n",
    "plt.show()"
   ]
  },
  {
   "cell_type": "markdown",
   "id": "6725da7f",
   "metadata": {},
   "source": [
    "#### As we can see, the ones who shows in their appointment older (mean=37) than the ones they didn’t shows in their appointment (mean=34).\n",
    " \n",
    "#### we can observe here that older people is most likley to attend the appointment."
   ]
  },
  {
   "cell_type": "markdown",
   "id": "590dd17d",
   "metadata": {},
   "source": [
    "### Is the patient with a scholarship have more probability to not show in the appointment?"
   ]
  },
  {
   "cell_type": "code",
   "execution_count": null,
   "id": "9da9acbf",
   "metadata": {},
   "outputs": [],
   "source": [
    "df0 = df.groupby('no_show')['scholarship'].mean()"
   ]
  },
  {
   "cell_type": "code",
   "execution_count": null,
   "id": "6380b0cf",
   "metadata": {},
   "outputs": [],
   "source": [
    "df0 = df0.to_frame()"
   ]
  },
  {
   "cell_type": "code",
   "execution_count": null,
   "id": "7d7cb921",
   "metadata": {},
   "outputs": [],
   "source": [
    "# all_p: Number of all patients\n",
    "df0['mean_patient'] = df1['no_show']/all_p"
   ]
  },
  {
   "cell_type": "code",
   "execution_count": null,
   "id": "743d6a74",
   "metadata": {},
   "outputs": [],
   "source": [
    "df0"
   ]
  },
  {
   "cell_type": "code",
   "execution_count": null,
   "id": "6b2d1a48",
   "metadata": {},
   "outputs": [],
   "source": [
    "# Initialize the matplotlib figure\n",
    "f, ax = plt.subplots(figsize=(8, 10))\n",
    "\n",
    "# Plot the total patients\n",
    "sns.set_color_codes(\"pastel\")\n",
    "sns.barplot(x=['No', 'Yes'], y=df0.mean_patient, data=df0, label=\"Total\", color=\"b\")\n",
    "\n",
    "# Plot the patients with scholarship\n",
    "sns.set_color_codes(\"muted\")\n",
    "sns.barplot(x=['No', 'Yes'], y=df0.scholarship, data=df0, label=\"patient with scholarship\", color=\"b\")\n",
    "\n",
    "# Add a legend and informative axis label\n",
    "ax.legend(frameon=False);\n",
    "ax.set_title('patient with a scholarship', fontsize=20)\n",
    "ax.set_ylabel('Average of patients',fontsize=15)\n",
    "ax.set_xlabel('No_show',fontsize=15)\n",
    "sns.despine(right=True, top=True);"
   ]
  },
  {
   "cell_type": "markdown",
   "id": "35209798",
   "metadata": {},
   "source": [
    "#### As we can see, no show up patient with a scholarship (mean=0.11) which is more than 50% of total no show up patients (mean=0.20)"
   ]
  },
  {
   "cell_type": "markdown",
   "id": "cf3963a8",
   "metadata": {},
   "source": [
    "### Is there any connection between not showing up in the appointment and the time between schedule day and appointment day?"
   ]
  },
  {
   "cell_type": "code",
   "execution_count": null,
   "id": "f7d17eef",
   "metadata": {},
   "outputs": [],
   "source": [
    "df_t = df.groupby('no_show')['diff_between_dates'].mean()\n",
    "df_t=df_t.to_frame()\n",
    "df_t"
   ]
  },
  {
   "cell_type": "code",
   "execution_count": null,
   "id": "4658cc7b",
   "metadata": {},
   "outputs": [],
   "source": [
    "sns.barplot(data=df_t, x=, y=df_t.diff_between_dates)"
   ]
  },
  {
   "cell_type": "code",
   "execution_count": null,
   "id": "9089195e",
   "metadata": {},
   "outputs": [],
   "source": []
  }
 ],
 "metadata": {
  "kernelspec": {
   "display_name": "Python 3",
   "language": "python",
   "name": "python3"
  },
  "language_info": {
   "codemirror_mode": {
    "name": "ipython",
    "version": 3
   },
   "file_extension": ".py",
   "mimetype": "text/x-python",
   "name": "python",
   "nbconvert_exporter": "python",
   "pygments_lexer": "ipython3",
   "version": "3.8.8"
  }
 },
 "nbformat": 4,
 "nbformat_minor": 5
}
